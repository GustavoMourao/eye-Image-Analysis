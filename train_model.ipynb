{
 "nbformat": 4,
 "nbformat_minor": 2,
 "metadata": {
  "language_info": {
   "name": "python",
   "codemirror_mode": {
    "name": "ipython",
    "version": 3
   },
   "version": "3.7.3"
  },
  "orig_nbformat": 2,
  "file_extension": ".py",
  "mimetype": "text/x-python",
  "name": "python",
  "npconvert_exporter": "python",
  "pygments_lexer": "ipython3",
  "version": 3
 },
 "cells": [
  {
   "cell_type": "code",
   "execution_count": 7,
   "metadata": {},
   "outputs": [],
   "source": [
    "from Interpreter import Interpreter"
   ]
  },
  {
   "cell_type": "code",
   "execution_count": 8,
   "metadata": {},
   "outputs": [],
   "source": [
    "# Get raw data and apply CNN model."
   ]
  },
  {
   "cell_type": "code",
   "execution_count": 9,
   "metadata": {},
   "outputs": [],
   "source": [
    "TARGET_SIZE = (128, 128)\n",
    "BATCH_SIZE = 32\n",
    "EPOCHS = 100\n",
    "IMAGE_SHAPE = (128, 128, 1)\n",
    "IMAGE_SHAPE_EFFI = (128, 128, 3)\n",
    "inter = Interpreter(\n",
    "    BATCH_SIZE,\n",
    "    IMAGE_SHAPE,\n",
    "    EPOCHS,\n",
    "    TARGET_SIZE\n",
    ")"
   ]
  },
  {
   "cell_type": "code",
   "execution_count": 11,
   "metadata": {},
   "outputs": [
    {
     "name": "stdout",
     "output_type": "stream",
     "text": "Found 706 images belonging to 2 classes.\nFound 140 images belonging to 2 classes.\nFound 94 images belonging to 2 classes.\n"
    }
   ],
   "source": [
    "train_images, validation_images, test_images = inter.split_data()\n"
   ]
  },
  {
   "cell_type": "code",
   "execution_count": null,
   "metadata": {},
   "outputs": [],
   "source": [
    "# Traditional method.\n",
    "inter.train_model(\n",
    "    train_images,\n",
    "    test_images,\n",
    "    validation_images,\n",
    "    'SGD',\n",
    "    2048\n",
    ")"
   ]
  }
 ]
}