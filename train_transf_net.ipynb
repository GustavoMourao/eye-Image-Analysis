{
 "cells": [
  {
   "cell_type": "code",
   "execution_count": 1,
   "metadata": {},
   "outputs": [
    {
     "name": "stdout",
     "output_type": "stream",
     "text": [
      "Collecting pillow==4.0.0\n",
      "\u001b[?25l  Downloading https://files.pythonhosted.org/packages/37/e8/b3fbf87b0188d22246678f8cd61e23e31caa1769ebc06f1664e2e5fe8a17/Pillow-4.0.0-cp36-cp36m-manylinux1_x86_64.whl (5.6MB)\n",
      "\u001b[K    100% |████████████████████████████████| 5.6MB 8.1MB/s eta 0:00:01\n",
      "\u001b[?25hRequirement already satisfied: olefile in /home/ec2-user/anaconda3/envs/amazonei_tensorflow_p36/lib/python3.6/site-packages (from pillow==4.0.0) (0.45.1)\n",
      "Installing collected packages: pillow\n",
      "  Found existing installation: Pillow 5.2.0\n",
      "    Uninstalling Pillow-5.2.0:\n",
      "      Successfully uninstalled Pillow-5.2.0\n",
      "Successfully installed pillow-4.0.0\n",
      "\u001b[33mYou are using pip version 10.0.1, however version 19.3.1 is available.\n",
      "You should consider upgrading via the 'pip install --upgrade pip' command.\u001b[0m\n",
      "Collecting keras\n",
      "\u001b[?25l  Downloading https://files.pythonhosted.org/packages/ad/fd/6bfe87920d7f4fd475acd28500a42482b6b84479832bdc0fe9e589a60ceb/Keras-2.3.1-py2.py3-none-any.whl (377kB)\n",
      "\u001b[K    100% |████████████████████████████████| 378kB 32.5MB/s ta 0:00:01\n",
      "\u001b[?25hRequirement already satisfied: six>=1.9.0 in /home/ec2-user/anaconda3/envs/amazonei_tensorflow_p36/lib/python3.6/site-packages (from keras) (1.11.0)\n",
      "Requirement already satisfied: keras-preprocessing>=1.0.5 in /home/ec2-user/anaconda3/envs/amazonei_tensorflow_p36/lib/python3.6/site-packages (from keras) (1.1.0)\n",
      "Requirement already satisfied: keras-applications>=1.0.6 in /home/ec2-user/anaconda3/envs/amazonei_tensorflow_p36/lib/python3.6/site-packages (from keras) (1.0.8)\n",
      "Requirement already satisfied: numpy>=1.9.1 in /home/ec2-user/anaconda3/envs/amazonei_tensorflow_p36/lib/python3.6/site-packages (from keras) (1.14.3)\n",
      "Requirement already satisfied: h5py in /home/ec2-user/anaconda3/envs/amazonei_tensorflow_p36/lib/python3.6/site-packages (from keras) (2.8.0)\n",
      "Requirement already satisfied: scipy>=0.14 in /home/ec2-user/anaconda3/envs/amazonei_tensorflow_p36/lib/python3.6/site-packages (from keras) (1.1.0)\n",
      "Requirement already satisfied: pyyaml in /home/ec2-user/anaconda3/envs/amazonei_tensorflow_p36/lib/python3.6/site-packages (from keras) (3.12)\n",
      "Installing collected packages: keras\n",
      "Successfully installed keras-2.3.1\n",
      "\u001b[33mYou are using pip version 10.0.1, however version 19.3.1 is available.\n",
      "You should consider upgrading via the 'pip install --upgrade pip' command.\u001b[0m\n"
     ]
    }
   ],
   "source": [
    "# Downgrade pillow to avoid `UserWarning: Possibly corrupt EXIF data.`\n",
    "!pip install pillow==4.0.0\n",
    "!pip install keras"
   ]
  },
  {
   "cell_type": "code",
   "execution_count": 2,
   "metadata": {},
   "outputs": [
    {
     "name": "stdout",
     "output_type": "stream",
     "text": [
      "total 256\n",
      "drwxrwxr-x 15 ec2-user ec2-user  4096 Dec 17 13:32 \u001b[0m\u001b[01;34m.\u001b[0m/\n",
      "drwxr-xr-x  5 ec2-user ec2-user  4096 Dec 17 13:46 \u001b[01;34m..\u001b[0m/\n",
      "drwxrwxr-x  5 ec2-user ec2-user  4096 Dec 13 01:48 \u001b[01;34mData\u001b[0m/\n",
      "drwxrwxr-x  4 ec2-user ec2-user  4096 Dec 13 01:48 \u001b[01;34mDatabase\u001b[0m/\n",
      "drwxrwxr-x  5 ec2-user ec2-user  4096 Dec 13 01:48 \u001b[01;34mData_equalized\u001b[0m/\n",
      "drwxrwxr-x  3 ec2-user ec2-user  4096 Dec 13 01:48 \u001b[01;34mData_partial_excluded\u001b[0m/\n",
      "drwxrwxr-x  3 ec2-user ec2-user  4096 Dec 13 01:48 \u001b[01;34mData_Suspect\u001b[0m/\n",
      "drwxrwxr-x  8 ec2-user ec2-user  4096 Dec 16 20:21 \u001b[01;34mefficientnet_keras_transfer_learning\u001b[0m/\n",
      "-rw-rw-r--  1 ec2-user ec2-user  1487 Dec 13 01:48 evaluation_test.py\n",
      "drwxrwxr-x  8 ec2-user ec2-user  4096 Dec 17 13:50 \u001b[01;34m.git\u001b[0m/\n",
      "-rw-rw-r--  1 ec2-user ec2-user  1212 Dec 13 01:48 .gitignore\n",
      "-rw-rw-r--  1 ec2-user ec2-user  4859 Dec 13 01:48 Graphs.py\n",
      "-rw-rw-r--  1 ec2-user ec2-user 15831 Dec 17 13:13 Interpreter.py\n",
      "-rw-rw-r--  1 ec2-user ec2-user 11233 Dec 13 02:25 Interpreter.pyc\n",
      "drwxrwxr-x  2 ec2-user ec2-user  4096 Dec 17 13:10 \u001b[01;34m.ipynb_checkpoints\u001b[0m/\n",
      "drwxrwxr-x  2 ec2-user ec2-user  4096 Dec 17 13:09 \u001b[01;34mModels\u001b[0m/\n",
      "-rw-rw-r--  1 ec2-user ec2-user  1302 Dec 13 01:48 pre_proc.py\n",
      "drwxrwxr-x  2 ec2-user ec2-user  4096 Dec 13 01:48 \u001b[01;34mProcessing\u001b[0m/\n",
      "-rw-rw-r--  1 ec2-user ec2-user  5092 Dec 13 01:48 Processor.py\n",
      "drwxrwxr-x  2 ec2-user ec2-user  4096 Dec 17 13:04 \u001b[01;34m__pycache__\u001b[0m/\n",
      "-rw-rw-r--  1 ec2-user ec2-user  1926 Dec 13 01:48 README.md\n",
      "drwxrwxr-x  2 ec2-user ec2-user  4096 Dec 13 01:48 \u001b[01;34mreferences\u001b[0m/\n",
      "-rw-rw-r--  1 ec2-user ec2-user   231 Dec 17 13:10 requirements.txt\n",
      "-rw-rw-r--  1 ec2-user ec2-user  1314 Dec 13 01:48 test_interpreter.py\n",
      "-rw-rw-r--  1 ec2-user ec2-user  3009 Dec 13 01:48 test_processor.py\n",
      "-rw-rw-r--  1 ec2-user ec2-user 23987 Dec 16 17:33 train_model.ipynb\n",
      "-rw-rw-r--  1 ec2-user ec2-user  1213 Dec 16 17:33 train_start.py\n",
      "-rw-rw-r--  1 ec2-user ec2-user 14340 Dec 17 13:32 train_transf_net.ipynb\n",
      "-rw-rw-r--  1 ec2-user ec2-user 81132 Dec 13 19:09 Untitled.ipynb\n",
      "drwxrwxr-x  3 ec2-user ec2-user  4096 Dec 13 01:52 \u001b[01;34mWindowOpt\u001b[0m/\n",
      "[Errno 2] No such file or directory: 'eye-Image-Analysis/'\n",
      "/home/ec2-user/SageMaker/eye-Image-Analysis\n",
      "total 256\n",
      "drwxrwxr-x 15 ec2-user ec2-user  4096 Dec 17 13:32 \u001b[0m\u001b[01;34m.\u001b[0m/\n",
      "drwxr-xr-x  5 ec2-user ec2-user  4096 Dec 17 13:46 \u001b[01;34m..\u001b[0m/\n",
      "drwxrwxr-x  5 ec2-user ec2-user  4096 Dec 13 01:48 \u001b[01;34mData\u001b[0m/\n",
      "drwxrwxr-x  4 ec2-user ec2-user  4096 Dec 13 01:48 \u001b[01;34mDatabase\u001b[0m/\n",
      "drwxrwxr-x  5 ec2-user ec2-user  4096 Dec 13 01:48 \u001b[01;34mData_equalized\u001b[0m/\n",
      "drwxrwxr-x  3 ec2-user ec2-user  4096 Dec 13 01:48 \u001b[01;34mData_partial_excluded\u001b[0m/\n",
      "drwxrwxr-x  3 ec2-user ec2-user  4096 Dec 13 01:48 \u001b[01;34mData_Suspect\u001b[0m/\n",
      "drwxrwxr-x  8 ec2-user ec2-user  4096 Dec 16 20:21 \u001b[01;34mefficientnet_keras_transfer_learning\u001b[0m/\n",
      "-rw-rw-r--  1 ec2-user ec2-user  1487 Dec 13 01:48 evaluation_test.py\n",
      "drwxrwxr-x  8 ec2-user ec2-user  4096 Dec 17 13:50 \u001b[01;34m.git\u001b[0m/\n",
      "-rw-rw-r--  1 ec2-user ec2-user  1212 Dec 13 01:48 .gitignore\n",
      "-rw-rw-r--  1 ec2-user ec2-user  4859 Dec 13 01:48 Graphs.py\n",
      "-rw-rw-r--  1 ec2-user ec2-user 15831 Dec 17 13:13 Interpreter.py\n",
      "-rw-rw-r--  1 ec2-user ec2-user 11233 Dec 13 02:25 Interpreter.pyc\n",
      "drwxrwxr-x  2 ec2-user ec2-user  4096 Dec 17 13:10 \u001b[01;34m.ipynb_checkpoints\u001b[0m/\n",
      "drwxrwxr-x  2 ec2-user ec2-user  4096 Dec 17 13:09 \u001b[01;34mModels\u001b[0m/\n",
      "-rw-rw-r--  1 ec2-user ec2-user  1302 Dec 13 01:48 pre_proc.py\n",
      "drwxrwxr-x  2 ec2-user ec2-user  4096 Dec 13 01:48 \u001b[01;34mProcessing\u001b[0m/\n",
      "-rw-rw-r--  1 ec2-user ec2-user  5092 Dec 13 01:48 Processor.py\n",
      "drwxrwxr-x  2 ec2-user ec2-user  4096 Dec 17 13:04 \u001b[01;34m__pycache__\u001b[0m/\n",
      "-rw-rw-r--  1 ec2-user ec2-user  1926 Dec 13 01:48 README.md\n",
      "drwxrwxr-x  2 ec2-user ec2-user  4096 Dec 13 01:48 \u001b[01;34mreferences\u001b[0m/\n",
      "-rw-rw-r--  1 ec2-user ec2-user   231 Dec 17 13:10 requirements.txt\n",
      "-rw-rw-r--  1 ec2-user ec2-user  1314 Dec 13 01:48 test_interpreter.py\n",
      "-rw-rw-r--  1 ec2-user ec2-user  3009 Dec 13 01:48 test_processor.py\n",
      "-rw-rw-r--  1 ec2-user ec2-user 23987 Dec 16 17:33 train_model.ipynb\n",
      "-rw-rw-r--  1 ec2-user ec2-user  1213 Dec 16 17:33 train_start.py\n",
      "-rw-rw-r--  1 ec2-user ec2-user 14340 Dec 17 13:32 train_transf_net.ipynb\n",
      "-rw-rw-r--  1 ec2-user ec2-user 81132 Dec 13 19:09 Untitled.ipynb\n",
      "drwxrwxr-x  3 ec2-user ec2-user  4096 Dec 13 01:52 \u001b[01;34mWindowOpt\u001b[0m/\n"
     ]
    }
   ],
   "source": [
    "%ls -la\n",
    "%cd eye-Image-Analysis/\n",
    "%ls -la"
   ]
  },
  {
   "cell_type": "code",
   "execution_count": 30,
   "metadata": {},
   "outputs": [],
   "source": [
    "from Interpreter import Interpreter"
   ]
  },
  {
   "cell_type": "code",
   "execution_count": 21,
   "metadata": {},
   "outputs": [],
   "source": [
    "TARGET_SIZE = (256, 256)\n",
    "BATCH_SIZE = 32\n",
    "EPOCHS = 2\n",
    "IMAGE_SHAPE = (256, 256, 3)"
   ]
  },
  {
   "cell_type": "code",
   "execution_count": 22,
   "metadata": {},
   "outputs": [
    {
     "name": "stdout",
     "output_type": "stream",
     "text": [
      "Found 706 images belonging to 2 classes.\n",
      "Found 140 images belonging to 2 classes.\n",
      "Found 94 images belonging to 2 classes.\n"
     ]
    }
   ],
   "source": [
    "inter = Interpreter(\n",
    "    BATCH_SIZE,\n",
    "    IMAGE_SHAPE,\n",
    "    EPOCHS,\n",
    "    TARGET_SIZE\n",
    ")\n",
    "\n",
    "train_images, validation_images, test_images = inter.split_data()"
   ]
  },
  {
   "cell_type": "markdown",
   "metadata": {},
   "source": [
    "> Train EfficientNetB0"
   ]
  },
  {
   "cell_type": "code",
   "execution_count": 6,
   "metadata": {},
   "outputs": [
    {
     "name": "stdout",
     "output_type": "stream",
     "text": [
      "WARNING:tensorflow:From /home/ec2-user/anaconda3/envs/amazonei_tensorflow_p36/lib/python3.6/site-packages/tensorflow/python/ops/resource_variable_ops.py:435: colocate_with (from tensorflow.python.framework.ops) is deprecated and will be removed in a future version.\n",
      "Instructions for updating:\n",
      "Colocations handled automatically by placer.\n",
      "WARNING:tensorflow:From /home/ec2-user/anaconda3/envs/amazonei_tensorflow_p36/lib/python3.6/site-packages/tensorflow/python/framework/function.py:1007: calling Graph.create_op (from tensorflow.python.framework.ops) with compute_shapes is deprecated and will be removed in a future version.\n",
      "Instructions for updating:\n",
      "Shapes are always computed; don't use the compute_shapes as it has no effect.\n",
      "WARNING:tensorflow:From /home/ec2-user/SageMaker/eye-Image-Analysis/efficientnet_keras_transfer_learning/efficientnet/layers.py:30: div (from tensorflow.python.ops.math_ops) is deprecated and will be removed in a future version.\n",
      "Instructions for updating:\n",
      "Deprecated in favor of operator or tf.math.divide.\n",
      "Downloading data from https://github.com/qubvel/efficientnet/releases/download/v0.0.1/efficientnet-b0_imagenet_1000_notop.h5\n",
      "16719872/16717576 [==============================] - 3s 0us/step\n",
      "WARNING:tensorflow:From /home/ec2-user/anaconda3/envs/amazonei_tensorflow_p36/lib/python3.6/site-packages/tensorflow/python/keras/layers/core.py:143: calling dropout (from tensorflow.python.ops.nn_ops) with keep_prob is deprecated and will be removed in a future version.\n",
      "Instructions for updating:\n",
      "Please use `rate` instead of `keep_prob`. Rate should be set to `rate = 1 - keep_prob`.\n",
      "_________________________________________________________________\n",
      "Layer (type)                 Output Shape              Param #   \n",
      "=================================================================\n",
      "efficientnet-b0 (Model)      (None, 8, 8, 1280)        4049564   \n",
      "_________________________________________________________________\n",
      "gap (GlobalMaxPooling2D)     (None, 1280)              0         \n",
      "_________________________________________________________________\n",
      "dropout_out (Dropout)        (None, 1280)              0         \n",
      "_________________________________________________________________\n",
      "fc_out (Dense)               (None, 2)                 2562      \n",
      "=================================================================\n",
      "Total params: 4,052,126\n",
      "Trainable params: 4,010,110\n",
      "Non-trainable params: 42,016\n",
      "_________________________________________________________________\n",
      "This is the number of trainable layers before freezing the conv base: 213\n",
      "This is the number of trainable layers after freezing the conv base: 2\n",
      "Epoch 1/2\n",
      "5/5 [==============================] - 24s 5s/step - loss: 2.5365 - acc: 0.5000\n",
      "23/23 [==============================] - 131s 6s/step - loss: 5.4424 - acc: 0.4986 - val_loss: 2.5365 - val_acc: 0.5000\n",
      "Epoch 2/2\n",
      "5/5 [==============================] - 45s 9s/step - loss: 2.3423 - acc: 0.4857\n",
      "23/23 [==============================] - 361s 16s/step - loss: 4.0468 - acc: 0.5057 - val_loss: 2.3423 - val_acc: 0.4857\n"
     ]
    }
   ],
   "source": [
    "model, model_out = inter.train_efficient_net(\n",
    "    train_images,\n",
    "    test_images,\n",
    "    validation_images,\n",
    "    0\n",
    ")"
   ]
  },
  {
   "cell_type": "code",
   "execution_count": 31,
   "metadata": {},
   "outputs": [
    {
     "ename": "KeyError",
     "evalue": "'accuracy'",
     "output_type": "error",
     "traceback": [
      "\u001b[0;31m---------------------------------------------------------------------------\u001b[0m",
      "\u001b[0;31mKeyError\u001b[0m                                  Traceback (most recent call last)",
      "\u001b[0;32m<ipython-input-31-53cd507b1abf>\u001b[0m in \u001b[0;36m<module>\u001b[0;34m()\u001b[0m\n\u001b[1;32m      3\u001b[0m     \u001b[0mvalidation_images\u001b[0m\u001b[0;34m,\u001b[0m\u001b[0;34m\u001b[0m\u001b[0m\n\u001b[1;32m      4\u001b[0m     \u001b[0mmodel\u001b[0m\u001b[0;34m,\u001b[0m\u001b[0;34m\u001b[0m\u001b[0m\n\u001b[0;32m----> 5\u001b[0;31m     \u001b[0mmodel_out\u001b[0m\u001b[0;34m\u001b[0m\u001b[0m\n\u001b[0m\u001b[1;32m      6\u001b[0m )\n",
      "\u001b[0;32m~/SageMaker/eye-Image-Analysis/Interpreter.py\u001b[0m in \u001b[0;36mmodel_evaluation_test\u001b[0;34m(self, test_images, validation_images, model, model_out)\u001b[0m\n\u001b[1;32m    418\u001b[0m         graphs.show_train_validation(\n\u001b[1;32m    419\u001b[0m             \u001b[0mself\u001b[0m\u001b[0;34m.\u001b[0m\u001b[0mepochs\u001b[0m\u001b[0;34m,\u001b[0m\u001b[0;34m\u001b[0m\u001b[0m\n\u001b[0;32m--> 420\u001b[0;31m             \u001b[0mmodel_out\u001b[0m\u001b[0;34m\u001b[0m\u001b[0m\n\u001b[0m\u001b[1;32m    421\u001b[0m         )\n\u001b[1;32m    422\u001b[0m \u001b[0;34m\u001b[0m\u001b[0m\n",
      "\u001b[0;32m~/SageMaker/eye-Image-Analysis/Graphs.py\u001b[0m in \u001b[0;36mshow_train_validation\u001b[0;34m(self, epochs, model_out)\u001b[0m\n\u001b[1;32m     33\u001b[0m         \u001b[0mmodel_info\u001b[0m\u001b[0;34m[\u001b[0m\u001b[0;34m'loss'\u001b[0m\u001b[0;34m]\u001b[0m \u001b[0;34m=\u001b[0m \u001b[0mmodel_out\u001b[0m\u001b[0;34m.\u001b[0m\u001b[0mhistory\u001b[0m\u001b[0;34m[\u001b[0m\u001b[0;34m\"loss\"\u001b[0m\u001b[0;34m]\u001b[0m\u001b[0;34m\u001b[0m\u001b[0m\n\u001b[1;32m     34\u001b[0m         \u001b[0mmodel_info\u001b[0m\u001b[0;34m[\u001b[0m\u001b[0;34m'val_loss'\u001b[0m\u001b[0;34m]\u001b[0m \u001b[0;34m=\u001b[0m \u001b[0mmodel_out\u001b[0m\u001b[0;34m.\u001b[0m\u001b[0mhistory\u001b[0m\u001b[0;34m[\u001b[0m\u001b[0;34m\"val_loss\"\u001b[0m\u001b[0;34m]\u001b[0m\u001b[0;34m\u001b[0m\u001b[0m\n\u001b[0;32m---> 35\u001b[0;31m         \u001b[0mmodel_info\u001b[0m\u001b[0;34m[\u001b[0m\u001b[0;34m'acc'\u001b[0m\u001b[0;34m]\u001b[0m \u001b[0;34m=\u001b[0m \u001b[0mmodel_out\u001b[0m\u001b[0;34m.\u001b[0m\u001b[0mhistory\u001b[0m\u001b[0;34m[\u001b[0m\u001b[0;34m'acc'\u001b[0m\u001b[0;34m]\u001b[0m\u001b[0;34m\u001b[0m\u001b[0m\n\u001b[0m\u001b[1;32m     36\u001b[0m         \u001b[0mmodel_info\u001b[0m\u001b[0;34m[\u001b[0m\u001b[0;34m'val_acc'\u001b[0m\u001b[0;34m]\u001b[0m \u001b[0;34m=\u001b[0m \u001b[0mmodel_out\u001b[0m\u001b[0;34m.\u001b[0m\u001b[0mhistory\u001b[0m\u001b[0;34m[\u001b[0m\u001b[0;34m'val_acc'\u001b[0m\u001b[0;34m]\u001b[0m\u001b[0;34m\u001b[0m\u001b[0m\n\u001b[1;32m     37\u001b[0m \u001b[0;34m\u001b[0m\u001b[0m\n",
      "\u001b[0;31mKeyError\u001b[0m: 'accuracy'"
     ]
    }
   ],
   "source": [
    "inter.model_evaluation_test(\n",
    "    test_images,\n",
    "    validation_images,\n",
    "    model,\n",
    "    model_out\n",
    ")"
   ]
  },
  {
   "cell_type": "markdown",
   "metadata": {},
   "source": [
    "> Train EfficientNetB1"
   ]
  },
  {
   "cell_type": "code",
   "execution_count": null,
   "metadata": {},
   "outputs": [],
   "source": [
    "model, model_out = inter.train_efficient_net(\n",
    "    train_images,\n",
    "    test_images,\n",
    "    validation_images,\n",
    "    1\n",
    ")"
   ]
  },
  {
   "cell_type": "markdown",
   "metadata": {},
   "source": [
    "> Train EfficientNetB2"
   ]
  },
  {
   "cell_type": "code",
   "execution_count": null,
   "metadata": {},
   "outputs": [],
   "source": [
    "model, model_out = inter.train_efficient_net(\n",
    "    train_images,\n",
    "    test_images,\n",
    "    validation_images,\n",
    "    2\n",
    ")"
   ]
  }
 ],
 "metadata": {
  "kernelspec": {
   "display_name": "conda_amazonei_tensorflow_p36",
   "language": "python",
   "name": "conda_amazonei_tensorflow_p36"
  },
  "language_info": {
   "codemirror_mode": {
    "name": "ipython",
    "version": 3
   },
   "file_extension": ".py",
   "mimetype": "text/x-python",
   "name": "python",
   "nbconvert_exporter": "python",
   "pygments_lexer": "ipython3",
   "version": "3.6.5"
  }
 },
 "nbformat": 4,
 "nbformat_minor": 4
}
