{
 "cells": [
  {
   "cell_type": "code",
   "execution_count": 1,
   "metadata": {},
   "outputs": [
    {
     "name": "stdout",
     "output_type": "stream",
     "text": [
      "Collecting pillow==4.0.0\n",
      "\u001b[?25l  Downloading https://files.pythonhosted.org/packages/37/e8/b3fbf87b0188d22246678f8cd61e23e31caa1769ebc06f1664e2e5fe8a17/Pillow-4.0.0-cp36-cp36m-manylinux1_x86_64.whl (5.6MB)\n",
      "\u001b[K    100% |████████████████████████████████| 5.6MB 7.2MB/s eta 0:00:01\n",
      "\u001b[?25hRequirement already satisfied: olefile in /home/ec2-user/anaconda3/envs/amazonei_tensorflow_p36/lib/python3.6/site-packages (from pillow==4.0.0) (0.45.1)\n",
      "Installing collected packages: pillow\n",
      "  Found existing installation: Pillow 5.2.0\n",
      "    Uninstalling Pillow-5.2.0:\n",
      "      Successfully uninstalled Pillow-5.2.0\n",
      "Successfully installed pillow-4.0.0\n",
      "\u001b[33mYou are using pip version 10.0.1, however version 19.3.1 is available.\n",
      "You should consider upgrading via the 'pip install --upgrade pip' command.\u001b[0m\n",
      "Collecting keras\n",
      "\u001b[?25l  Downloading https://files.pythonhosted.org/packages/ad/fd/6bfe87920d7f4fd475acd28500a42482b6b84479832bdc0fe9e589a60ceb/Keras-2.3.1-py2.py3-none-any.whl (377kB)\n",
      "\u001b[K    100% |████████████████████████████████| 378kB 30.3MB/s ta 0:00:01\n",
      "\u001b[?25hRequirement already satisfied: scipy>=0.14 in /home/ec2-user/anaconda3/envs/amazonei_tensorflow_p36/lib/python3.6/site-packages (from keras) (1.1.0)\n",
      "Requirement already satisfied: numpy>=1.9.1 in /home/ec2-user/anaconda3/envs/amazonei_tensorflow_p36/lib/python3.6/site-packages (from keras) (1.14.3)\n",
      "Requirement already satisfied: pyyaml in /home/ec2-user/anaconda3/envs/amazonei_tensorflow_p36/lib/python3.6/site-packages (from keras) (3.12)\n",
      "Requirement already satisfied: h5py in /home/ec2-user/anaconda3/envs/amazonei_tensorflow_p36/lib/python3.6/site-packages (from keras) (2.8.0)\n",
      "Requirement already satisfied: keras-applications>=1.0.6 in /home/ec2-user/anaconda3/envs/amazonei_tensorflow_p36/lib/python3.6/site-packages (from keras) (1.0.8)\n",
      "Requirement already satisfied: keras-preprocessing>=1.0.5 in /home/ec2-user/anaconda3/envs/amazonei_tensorflow_p36/lib/python3.6/site-packages (from keras) (1.1.0)\n",
      "Requirement already satisfied: six>=1.9.0 in /home/ec2-user/anaconda3/envs/amazonei_tensorflow_p36/lib/python3.6/site-packages (from keras) (1.11.0)\n",
      "Installing collected packages: keras\n",
      "Successfully installed keras-2.3.1\n",
      "\u001b[33mYou are using pip version 10.0.1, however version 19.3.1 is available.\n",
      "You should consider upgrading via the 'pip install --upgrade pip' command.\u001b[0m\n"
     ]
    }
   ],
   "source": [
    "# Downgrade pillow to avoid `UserWarning: Possibly corrupt EXIF data.`\n",
    "!pip install pillow==4.0.0\n",
    "!pip install keras\n"
   ]
  },
  {
   "cell_type": "code",
   "execution_count": 2,
   "metadata": {},
   "outputs": [
    {
     "name": "stdout",
     "output_type": "stream",
     "text": [
      "total 272\n",
      "drwxrwxr-x 15 ec2-user ec2-user  4096 Dec 17 18:56 \u001b[0m\u001b[01;34m.\u001b[0m/\n",
      "drwxr-xr-x  5 ec2-user ec2-user  4096 Dec 18 12:22 \u001b[01;34m..\u001b[0m/\n",
      "drwxrwxr-x  5 ec2-user ec2-user  4096 Dec 13 01:48 \u001b[01;34mData\u001b[0m/\n",
      "drwxrwxr-x  4 ec2-user ec2-user  4096 Dec 13 01:48 \u001b[01;34mDatabase\u001b[0m/\n",
      "drwxrwxr-x  5 ec2-user ec2-user  4096 Dec 13 01:48 \u001b[01;34mData_equalized\u001b[0m/\n",
      "drwxrwxr-x  3 ec2-user ec2-user  4096 Dec 13 01:48 \u001b[01;34mData_partial_excluded\u001b[0m/\n",
      "drwxrwxr-x  3 ec2-user ec2-user  4096 Dec 13 01:48 \u001b[01;34mData_Suspect\u001b[0m/\n",
      "drwxrwxr-x  8 ec2-user ec2-user  4096 Dec 17 17:59 \u001b[01;34mefficientnet_keras_transfer_learning\u001b[0m/\n",
      "-rw-rw-r--  1 ec2-user ec2-user  1487 Dec 13 01:48 evaluation_test.py\n",
      "drwxrwxr-x  8 ec2-user ec2-user  4096 Dec 18 12:37 \u001b[01;34m.git\u001b[0m/\n",
      "-rw-rw-r--  1 ec2-user ec2-user  1212 Dec 13 01:48 .gitignore\n",
      "-rw-rw-r--  1 ec2-user ec2-user  4829 Dec 17 18:54 Graphs.py\n",
      "-rw-rw-r--  1 ec2-user ec2-user  4201 Dec 17 17:59 Graphs.pyc\n",
      "-rw-rw-r--  1 ec2-user ec2-user 15787 Dec 17 18:02 Interpreter.py\n",
      "-rw-rw-r--  1 ec2-user ec2-user 12330 Dec 17 18:21 Interpreter.pyc\n",
      "drwxrwxr-x  2 ec2-user ec2-user  4096 Dec 17 14:21 \u001b[01;34m.ipynb_checkpoints\u001b[0m/\n",
      "drwxrwxr-x  2 ec2-user ec2-user  4096 Dec 17 13:09 \u001b[01;34mModels\u001b[0m/\n",
      "-rw-rw-r--  1 ec2-user ec2-user  1302 Dec 13 01:48 pre_proc.py\n",
      "drwxrwxr-x  2 ec2-user ec2-user  4096 Dec 13 01:48 \u001b[01;34mProcessing\u001b[0m/\n",
      "-rw-rw-r--  1 ec2-user ec2-user  5092 Dec 13 01:48 Processor.py\n",
      "drwxrwxr-x  2 ec2-user ec2-user  4096 Dec 17 18:44 \u001b[01;34m__pycache__\u001b[0m/\n",
      "-rw-rw-r--  1 ec2-user ec2-user  1926 Dec 13 01:48 README.md\n",
      "drwxrwxr-x  2 ec2-user ec2-user  4096 Dec 13 01:48 \u001b[01;34mreferences\u001b[0m/\n",
      "-rw-rw-r--  1 ec2-user ec2-user   231 Dec 17 13:10 requirements.txt\n",
      "-rw-rw-r--  1 ec2-user ec2-user  1314 Dec 13 01:48 test_interpreter.py\n",
      "-rw-rw-r--  1 ec2-user ec2-user  3009 Dec 13 01:48 test_processor.py\n",
      "-rw-rw-r--  1 ec2-user ec2-user 23987 Dec 16 17:33 train_model.ipynb\n",
      "-rw-rw-r--  1 ec2-user ec2-user  1213 Dec 16 17:33 train_start.py\n",
      "-rw-rw-r--  1 ec2-user ec2-user 17820 Dec 17 18:56 train_transf_net.ipynb\n",
      "-rw-rw-r--  1 ec2-user ec2-user 81132 Dec 13 19:09 Untitled.ipynb\n",
      "drwxrwxr-x  3 ec2-user ec2-user  4096 Dec 13 01:52 \u001b[01;34mWindowOpt\u001b[0m/\n",
      "[Errno 2] No such file or directory: 'eye-Image-Analysis/'\n",
      "/home/ec2-user/SageMaker/eye-Image-Analysis\n",
      "total 272\n",
      "drwxrwxr-x 15 ec2-user ec2-user  4096 Dec 17 18:56 \u001b[0m\u001b[01;34m.\u001b[0m/\n",
      "drwxr-xr-x  5 ec2-user ec2-user  4096 Dec 18 12:22 \u001b[01;34m..\u001b[0m/\n",
      "drwxrwxr-x  5 ec2-user ec2-user  4096 Dec 13 01:48 \u001b[01;34mData\u001b[0m/\n",
      "drwxrwxr-x  4 ec2-user ec2-user  4096 Dec 13 01:48 \u001b[01;34mDatabase\u001b[0m/\n",
      "drwxrwxr-x  5 ec2-user ec2-user  4096 Dec 13 01:48 \u001b[01;34mData_equalized\u001b[0m/\n",
      "drwxrwxr-x  3 ec2-user ec2-user  4096 Dec 13 01:48 \u001b[01;34mData_partial_excluded\u001b[0m/\n",
      "drwxrwxr-x  3 ec2-user ec2-user  4096 Dec 13 01:48 \u001b[01;34mData_Suspect\u001b[0m/\n",
      "drwxrwxr-x  8 ec2-user ec2-user  4096 Dec 17 17:59 \u001b[01;34mefficientnet_keras_transfer_learning\u001b[0m/\n",
      "-rw-rw-r--  1 ec2-user ec2-user  1487 Dec 13 01:48 evaluation_test.py\n",
      "drwxrwxr-x  8 ec2-user ec2-user  4096 Dec 18 12:37 \u001b[01;34m.git\u001b[0m/\n",
      "-rw-rw-r--  1 ec2-user ec2-user  1212 Dec 13 01:48 .gitignore\n",
      "-rw-rw-r--  1 ec2-user ec2-user  4829 Dec 17 18:54 Graphs.py\n",
      "-rw-rw-r--  1 ec2-user ec2-user  4201 Dec 17 17:59 Graphs.pyc\n",
      "-rw-rw-r--  1 ec2-user ec2-user 15787 Dec 17 18:02 Interpreter.py\n",
      "-rw-rw-r--  1 ec2-user ec2-user 12330 Dec 17 18:21 Interpreter.pyc\n",
      "drwxrwxr-x  2 ec2-user ec2-user  4096 Dec 17 14:21 \u001b[01;34m.ipynb_checkpoints\u001b[0m/\n",
      "drwxrwxr-x  2 ec2-user ec2-user  4096 Dec 17 13:09 \u001b[01;34mModels\u001b[0m/\n",
      "-rw-rw-r--  1 ec2-user ec2-user  1302 Dec 13 01:48 pre_proc.py\n",
      "drwxrwxr-x  2 ec2-user ec2-user  4096 Dec 13 01:48 \u001b[01;34mProcessing\u001b[0m/\n",
      "-rw-rw-r--  1 ec2-user ec2-user  5092 Dec 13 01:48 Processor.py\n",
      "drwxrwxr-x  2 ec2-user ec2-user  4096 Dec 17 18:44 \u001b[01;34m__pycache__\u001b[0m/\n",
      "-rw-rw-r--  1 ec2-user ec2-user  1926 Dec 13 01:48 README.md\n",
      "drwxrwxr-x  2 ec2-user ec2-user  4096 Dec 13 01:48 \u001b[01;34mreferences\u001b[0m/\n",
      "-rw-rw-r--  1 ec2-user ec2-user   231 Dec 17 13:10 requirements.txt\n",
      "-rw-rw-r--  1 ec2-user ec2-user  1314 Dec 13 01:48 test_interpreter.py\n",
      "-rw-rw-r--  1 ec2-user ec2-user  3009 Dec 13 01:48 test_processor.py\n",
      "-rw-rw-r--  1 ec2-user ec2-user 23987 Dec 16 17:33 train_model.ipynb\n",
      "-rw-rw-r--  1 ec2-user ec2-user  1213 Dec 16 17:33 train_start.py\n",
      "-rw-rw-r--  1 ec2-user ec2-user 17820 Dec 17 18:56 train_transf_net.ipynb\n",
      "-rw-rw-r--  1 ec2-user ec2-user 81132 Dec 13 19:09 Untitled.ipynb\n",
      "drwxrwxr-x  3 ec2-user ec2-user  4096 Dec 13 01:52 \u001b[01;34mWindowOpt\u001b[0m/\n"
     ]
    }
   ],
   "source": [
    "%ls -la\n",
    "%cd eye-Image-Analysis/\n",
    "%ls -la"
   ]
  },
  {
   "cell_type": "code",
   "execution_count": 3,
   "metadata": {},
   "outputs": [
    {
     "name": "stdout",
     "output_type": "stream",
     "text": [
      "total 272\n",
      "drwxrwxr-x 15 ec2-user ec2-user  4096 Dec 17 18:56 \u001b[0m\u001b[01;34m.\u001b[0m/\n",
      "drwxr-xr-x  5 ec2-user ec2-user  4096 Dec 18 12:22 \u001b[01;34m..\u001b[0m/\n",
      "drwxrwxr-x  5 ec2-user ec2-user  4096 Dec 13 01:48 \u001b[01;34mData\u001b[0m/\n",
      "drwxrwxr-x  4 ec2-user ec2-user  4096 Dec 13 01:48 \u001b[01;34mDatabase\u001b[0m/\n",
      "drwxrwxr-x  5 ec2-user ec2-user  4096 Dec 13 01:48 \u001b[01;34mData_equalized\u001b[0m/\n",
      "drwxrwxr-x  3 ec2-user ec2-user  4096 Dec 13 01:48 \u001b[01;34mData_partial_excluded\u001b[0m/\n",
      "drwxrwxr-x  3 ec2-user ec2-user  4096 Dec 13 01:48 \u001b[01;34mData_Suspect\u001b[0m/\n",
      "drwxrwxr-x  8 ec2-user ec2-user  4096 Dec 17 17:59 \u001b[01;34mefficientnet_keras_transfer_learning\u001b[0m/\n",
      "-rw-rw-r--  1 ec2-user ec2-user  1487 Dec 13 01:48 evaluation_test.py\n",
      "drwxrwxr-x  8 ec2-user ec2-user  4096 Dec 18 12:37 \u001b[01;34m.git\u001b[0m/\n",
      "-rw-rw-r--  1 ec2-user ec2-user  1212 Dec 13 01:48 .gitignore\n",
      "-rw-rw-r--  1 ec2-user ec2-user  4829 Dec 17 18:54 Graphs.py\n",
      "-rw-rw-r--  1 ec2-user ec2-user  4201 Dec 17 17:59 Graphs.pyc\n",
      "-rw-rw-r--  1 ec2-user ec2-user 15787 Dec 17 18:02 Interpreter.py\n",
      "-rw-rw-r--  1 ec2-user ec2-user 12330 Dec 17 18:21 Interpreter.pyc\n",
      "drwxrwxr-x  2 ec2-user ec2-user  4096 Dec 17 14:21 \u001b[01;34m.ipynb_checkpoints\u001b[0m/\n",
      "drwxrwxr-x  2 ec2-user ec2-user  4096 Dec 17 13:09 \u001b[01;34mModels\u001b[0m/\n",
      "-rw-rw-r--  1 ec2-user ec2-user  1302 Dec 13 01:48 pre_proc.py\n",
      "drwxrwxr-x  2 ec2-user ec2-user  4096 Dec 13 01:48 \u001b[01;34mProcessing\u001b[0m/\n",
      "-rw-rw-r--  1 ec2-user ec2-user  5092 Dec 13 01:48 Processor.py\n",
      "drwxrwxr-x  2 ec2-user ec2-user  4096 Dec 17 18:44 \u001b[01;34m__pycache__\u001b[0m/\n",
      "-rw-rw-r--  1 ec2-user ec2-user  1926 Dec 13 01:48 README.md\n",
      "drwxrwxr-x  2 ec2-user ec2-user  4096 Dec 13 01:48 \u001b[01;34mreferences\u001b[0m/\n",
      "-rw-rw-r--  1 ec2-user ec2-user   231 Dec 17 13:10 requirements.txt\n",
      "-rw-rw-r--  1 ec2-user ec2-user  1314 Dec 13 01:48 test_interpreter.py\n",
      "-rw-rw-r--  1 ec2-user ec2-user  3009 Dec 13 01:48 test_processor.py\n",
      "-rw-rw-r--  1 ec2-user ec2-user 23987 Dec 16 17:33 train_model.ipynb\n",
      "-rw-rw-r--  1 ec2-user ec2-user  1213 Dec 16 17:33 train_start.py\n",
      "-rw-rw-r--  1 ec2-user ec2-user 17820 Dec 17 18:56 train_transf_net.ipynb\n",
      "-rw-rw-r--  1 ec2-user ec2-user 81132 Dec 13 19:09 Untitled.ipynb\n",
      "drwxrwxr-x  3 ec2-user ec2-user  4096 Dec 13 01:52 \u001b[01;34mWindowOpt\u001b[0m/\n"
     ]
    }
   ],
   "source": [
    "%ls -la"
   ]
  },
  {
   "cell_type": "code",
   "execution_count": 4,
   "metadata": {},
   "outputs": [
    {
     "name": "stderr",
     "output_type": "stream",
     "text": [
      "Using TensorFlow backend.\n"
     ]
    }
   ],
   "source": [
    "from Interpreter import Interpreter"
   ]
  },
  {
   "cell_type": "code",
   "execution_count": 11,
   "metadata": {},
   "outputs": [],
   "source": [
    "TARGET_SIZE = (256, 256)\n",
    "BATCH_SIZE = 16\n",
    "EPOCHS = 40\n",
    "IMAGE_SHAPE = (256, 256, 3)"
   ]
  },
  {
   "cell_type": "code",
   "execution_count": 12,
   "metadata": {},
   "outputs": [
    {
     "name": "stdout",
     "output_type": "stream",
     "text": [
      "Found 706 images belonging to 2 classes.\n",
      "Found 140 images belonging to 2 classes.\n",
      "Found 94 images belonging to 2 classes.\n"
     ]
    }
   ],
   "source": [
    "inter = Interpreter(\n",
    "    BATCH_SIZE,\n",
    "    IMAGE_SHAPE,\n",
    "    EPOCHS,\n",
    "    TARGET_SIZE\n",
    ")\n",
    "\n",
    "train_images, validation_images, test_images = inter.split_data()"
   ]
  },
  {
   "cell_type": "markdown",
   "metadata": {},
   "source": [
    "> Train EfficientNetB0"
   ]
  },
  {
   "cell_type": "code",
   "execution_count": 13,
   "metadata": {},
   "outputs": [
    {
     "name": "stdout",
     "output_type": "stream",
     "text": [
      "_________________________________________________________________\n",
      "Layer (type)                 Output Shape              Param #   \n",
      "=================================================================\n",
      "efficientnet-b0 (Model)      (None, 8, 8, 1280)        4049564   \n",
      "_________________________________________________________________\n",
      "gap (GlobalMaxPooling2D)     (None, 1280)              0         \n",
      "_________________________________________________________________\n",
      "dropout_out (Dropout)        (None, 1280)              0         \n",
      "_________________________________________________________________\n",
      "fc_out (Dense)               (None, 2)                 2562      \n",
      "=================================================================\n",
      "Total params: 4,052,126\n",
      "Trainable params: 4,010,110\n",
      "Non-trainable params: 42,016\n",
      "_________________________________________________________________\n",
      "This is the number of trainable layers before freezing the conv base: 213\n",
      "This is the number of trainable layers after freezing the conv base: 2\n",
      "Epoch 1/40\n",
      "9/9 [==============================] - 108s 12s/step - loss: 1.5642 - acc: 0.4929\n",
      "45/45 [==============================] - 237s 5s/step - loss: 2.2177 - acc: 0.5212 - val_loss: 1.5642 - val_acc: 0.4929\n",
      "Epoch 2/40\n",
      "9/9 [==============================] - 39s 4s/step - loss: 1.5117 - acc: 0.5000\n",
      "45/45 [==============================] - 421s 9s/step - loss: 2.0642 - acc: 0.5439 - val_loss: 1.5117 - val_acc: 0.5000\n",
      "Epoch 3/40\n",
      "9/9 [==============================] - 44s 5s/step - loss: 1.5273 - acc: 0.5000\n",
      "45/45 [==============================] - 359s 8s/step - loss: 2.2733 - acc: 0.5000 - val_loss: 1.5273 - val_acc: 0.5000\n",
      "Epoch 4/40\n",
      "9/9 [==============================] - 88s 10s/step - loss: 1.3901 - acc: 0.5357\n",
      "45/45 [==============================] - 475s 11s/step - loss: 2.4030 - acc: 0.4972 - val_loss: 1.3901 - val_acc: 0.5357\n",
      "Epoch 5/40\n",
      "9/9 [==============================] - 15s 2s/step - loss: 1.3856 - acc: 0.5143\n",
      "45/45 [==============================] - 379s 8s/step - loss: 2.1909 - acc: 0.5439 - val_loss: 1.3856 - val_acc: 0.5143\n",
      "Epoch 6/40\n",
      "9/9 [==============================] - 95s 11s/step - loss: 1.6300 - acc: 0.5357\n",
      "45/45 [==============================] - 437s 10s/step - loss: 2.1865 - acc: 0.5241 - val_loss: 1.6300 - val_acc: 0.5357\n",
      "Epoch 7/40\n",
      "9/9 [==============================] - 16s 2s/step - loss: 1.7070 - acc: 0.5143\n",
      "45/45 [==============================] - 457s 10s/step - loss: 2.0359 - acc: 0.5397 - val_loss: 1.7070 - val_acc: 0.5143\n",
      "Epoch 8/40\n",
      "9/9 [==============================] - 90s 10s/step - loss: 1.8461 - acc: 0.5500\n",
      "45/45 [==============================] - 442s 10s/step - loss: 2.0754 - acc: 0.5439 - val_loss: 1.8461 - val_acc: 0.5500\n",
      "Epoch 9/40\n",
      "9/9 [==============================] - 34s 4s/step - loss: 1.7874 - acc: 0.5643\n",
      "45/45 [==============================] - 452s 10s/step - loss: 2.1901 - acc: 0.5241 - val_loss: 1.7874 - val_acc: 0.5643\n",
      "Epoch 10/40\n",
      "9/9 [==============================] - 88s 10s/step - loss: 1.6852 - acc: 0.5786\n",
      "45/45 [==============================] - 409s 9s/step - loss: 2.1620 - acc: 0.5340 - val_loss: 1.6852 - val_acc: 0.5786\n",
      "Epoch 11/40\n",
      "9/9 [==============================] - 62s 7s/step - loss: 1.6311 - acc: 0.6143\n",
      "45/45 [==============================] - 486s 11s/step - loss: 2.1451 - acc: 0.5297 - val_loss: 1.6311 - val_acc: 0.6143\n",
      "Epoch 12/40\n",
      "9/9 [==============================] - 66s 7s/step - loss: 1.5862 - acc: 0.5929\n",
      "45/45 [==============================] - 386s 9s/step - loss: 2.0644 - acc: 0.5467 - val_loss: 1.5862 - val_acc: 0.5929\n",
      "Epoch 13/40\n",
      "9/9 [==============================] - 88s 10s/step - loss: 1.5410 - acc: 0.6214\n",
      "45/45 [==============================] - 500s 11s/step - loss: 1.9458 - acc: 0.5722 - val_loss: 1.5410 - val_acc: 0.6214\n",
      "Epoch 14/40\n",
      "9/9 [==============================] - 16s 2s/step - loss: 1.5520 - acc: 0.6357\n",
      "45/45 [==============================] - 339s 8s/step - loss: 1.8849 - acc: 0.5425 - val_loss: 1.5520 - val_acc: 0.6357\n",
      "Epoch 15/40\n",
      "9/9 [==============================] - 87s 10s/step - loss: 1.6028 - acc: 0.6286\n",
      "45/45 [==============================] - 482s 11s/step - loss: 2.0462 - acc: 0.5340 - val_loss: 1.6028 - val_acc: 0.6286\n",
      "Epoch 16/40\n",
      "9/9 [==============================] - 16s 2s/step - loss: 1.5491 - acc: 0.6357\n",
      "45/45 [==============================] - 404s 9s/step - loss: 2.0335 - acc: 0.5595 - val_loss: 1.5491 - val_acc: 0.6357\n",
      "Epoch 17/40\n",
      "9/9 [==============================] - 98s 11s/step - loss: 1.5649 - acc: 0.6214\n",
      "45/45 [==============================] - 424s 9s/step - loss: 2.0753 - acc: 0.5212 - val_loss: 1.5649 - val_acc: 0.6214\n",
      "Epoch 18/40\n",
      "9/9 [==============================] - 56s 6s/step - loss: 1.5854 - acc: 0.6214\n",
      "45/45 [==============================] - 463s 10s/step - loss: 1.8488 - acc: 0.5595 - val_loss: 1.5854 - val_acc: 0.6214\n",
      "Epoch 19/40\n",
      "9/9 [==============================] - 43s 5s/step - loss: 1.5774 - acc: 0.6214\n",
      "45/45 [==============================] - 361s 8s/step - loss: 1.9199 - acc: 0.5595 - val_loss: 1.5774 - val_acc: 0.6214\n",
      "Epoch 20/40\n",
      "9/9 [==============================] - 88s 10s/step - loss: 1.6159 - acc: 0.6143\n",
      "45/45 [==============================] - 497s 11s/step - loss: 2.0459 - acc: 0.5453 - val_loss: 1.6159 - val_acc: 0.6143\n",
      "Epoch 21/40\n",
      "9/9 [==============================] - 16s 2s/step - loss: 1.5987 - acc: 0.6143\n",
      "45/45 [==============================] - 363s 8s/step - loss: 1.9225 - acc: 0.5567 - val_loss: 1.5987 - val_acc: 0.6143\n",
      "Epoch 22/40\n",
      "9/9 [==============================] - 90s 10s/step - loss: 1.6171 - acc: 0.6071\n",
      "45/45 [==============================] - 461s 10s/step - loss: 1.9203 - acc: 0.5581 - val_loss: 1.6171 - val_acc: 0.6071\n",
      "Epoch 23/40\n",
      "9/9 [==============================] - 25s 3s/step - loss: 1.6838 - acc: 0.6000\n",
      "45/45 [==============================] - 424s 9s/step - loss: 1.8246 - acc: 0.5538 - val_loss: 1.6838 - val_acc: 0.6000\n",
      "Epoch 24/40\n",
      "9/9 [==============================] - 77s 9s/step - loss: 1.6003 - acc: 0.6071\n",
      "45/45 [==============================] - 397s 9s/step - loss: 2.0399 - acc: 0.5467 - val_loss: 1.6003 - val_acc: 0.6071\n",
      "Epoch 25/40\n",
      "8/9 [=========================>....] - ETA: 9s - loss: 1.6950 - acc: 0.5938 "
     ]
    },
    {
     "name": "stderr",
     "output_type": "stream",
     "text": [
      "Exception in thread Thread-306:\n",
      "Traceback (most recent call last):\n",
      "  File \"/home/ec2-user/anaconda3/envs/amazonei_tensorflow_p36/lib/python3.6/threading.py\", line 916, in _bootstrap_inner\n",
      "    self.run()\n",
      "  File \"/home/ec2-user/anaconda3/envs/amazonei_tensorflow_p36/lib/python3.6/threading.py\", line 864, in run\n",
      "    self._target(*self._args, **self._kwargs)\n",
      "  File \"/home/ec2-user/anaconda3/envs/amazonei_tensorflow_p36/lib/python3.6/site-packages/tensorflow/python/keras/utils/data_utils.py\", line 619, in _run\n",
      "    with closing(self.executor_fn(_SHARED_SEQUENCES)) as executor:\n",
      "  File \"/home/ec2-user/anaconda3/envs/amazonei_tensorflow_p36/lib/python3.6/site-packages/tensorflow/python/keras/utils/data_utils.py\", line 600, in pool_fn\n",
      "    workers, initializer=init_pool_generator, initargs=(seqs, None))\n",
      "  File \"/home/ec2-user/anaconda3/envs/amazonei_tensorflow_p36/lib/python3.6/multiprocessing/context.py\", line 119, in Pool\n",
      "    context=self.get_context())\n",
      "  File \"/home/ec2-user/anaconda3/envs/amazonei_tensorflow_p36/lib/python3.6/multiprocessing/pool.py\", line 174, in __init__\n",
      "    self._repopulate_pool()\n",
      "  File \"/home/ec2-user/anaconda3/envs/amazonei_tensorflow_p36/lib/python3.6/multiprocessing/pool.py\", line 239, in _repopulate_pool\n",
      "    w.start()\n",
      "  File \"/home/ec2-user/anaconda3/envs/amazonei_tensorflow_p36/lib/python3.6/multiprocessing/process.py\", line 105, in start\n",
      "    self._popen = self._Popen(self)\n",
      "  File \"/home/ec2-user/anaconda3/envs/amazonei_tensorflow_p36/lib/python3.6/multiprocessing/context.py\", line 277, in _Popen\n",
      "    return Popen(process_obj)\n",
      "  File \"/home/ec2-user/anaconda3/envs/amazonei_tensorflow_p36/lib/python3.6/multiprocessing/popen_fork.py\", line 19, in __init__\n",
      "    self._launch(process_obj)\n",
      "  File \"/home/ec2-user/anaconda3/envs/amazonei_tensorflow_p36/lib/python3.6/multiprocessing/popen_fork.py\", line 66, in _launch\n",
      "    self.pid = os.fork()\n",
      "OSError: [Errno 12] Cannot allocate memory\n",
      "\n"
     ]
    },
    {
     "name": "stdout",
     "output_type": "stream",
     "text": [
      "9/9 [==============================] - 81s 9s/step - loss: 1.6595 - acc: 0.6000\n",
      "45/45 [==============================] - 470s 10s/step - loss: 2.0301 - acc: 0.5411 - val_loss: 1.6595 - val_acc: 0.6000\n",
      "Epoch 26/40\n",
      "9/9 [==============================] - 17s 2s/step - loss: 1.5725 - acc: 0.6357\n",
      "45/45 [==============================] - 351s 8s/step - loss: 2.0955 - acc: 0.5439 - val_loss: 1.5725 - val_acc: 0.6357\n",
      "Epoch 27/40\n",
      "9/9 [==============================] - 91s 10s/step - loss: 1.5494 - acc: 0.6357\n",
      "45/45 [==============================] - 485s 11s/step - loss: 2.0161 - acc: 0.5666 - val_loss: 1.5494 - val_acc: 0.6357\n",
      "Epoch 28/40\n",
      "9/9 [==============================] - 15s 2s/step - loss: 1.5212 - acc: 0.6286\n",
      "45/45 [==============================] - 403s 9s/step - loss: 1.7577 - acc: 0.6062 - val_loss: 1.5212 - val_acc: 0.6286\n",
      "Epoch 29/40\n",
      "9/9 [==============================] - 91s 10s/step - loss: 1.5138 - acc: 0.6357\n",
      "45/45 [==============================] - 414s 9s/step - loss: 1.6046 - acc: 0.5935 - val_loss: 1.5138 - val_acc: 0.6357\n",
      "Epoch 30/40\n",
      "9/9 [==============================] - 71s 8s/step - loss: 1.4624 - acc: 0.6429\n",
      "45/45 [==============================] - 470s 10s/step - loss: 1.8583 - acc: 0.5793 - val_loss: 1.4624 - val_acc: 0.6429\n",
      "Epoch 31/40\n",
      "9/9 [==============================] - 26s 3s/step - loss: 1.5345 - acc: 0.6357\n",
      "45/45 [==============================] - 343s 8s/step - loss: 1.7926 - acc: 0.5751 - val_loss: 1.5345 - val_acc: 0.6357\n",
      "Epoch 32/40\n",
      "9/9 [==============================] - 85s 9s/step - loss: 1.5547 - acc: 0.6357\n",
      "45/45 [==============================] - 489s 11s/step - loss: 1.8786 - acc: 0.5822 - val_loss: 1.5547 - val_acc: 0.6357\n",
      "Epoch 33/40\n",
      "9/9 [==============================] - 16s 2s/step - loss: 1.4902 - acc: 0.6429\n",
      "45/45 [==============================] - 387s 9s/step - loss: 1.9573 - acc: 0.5581 - val_loss: 1.4902 - val_acc: 0.6429\n",
      "Epoch 34/40\n",
      "9/9 [==============================] - 95s 11s/step - loss: 1.4632 - acc: 0.6571\n",
      "45/45 [==============================] - 442s 10s/step - loss: 1.5600 - acc: 0.6076 - val_loss: 1.4632 - val_acc: 0.6571\n",
      "Epoch 35/40\n",
      "9/9 [==============================] - 40s 4s/step - loss: 1.5365 - acc: 0.6500\n",
      "45/45 [==============================] - 446s 10s/step - loss: 1.7370 - acc: 0.5850 - val_loss: 1.5365 - val_acc: 0.6500\n",
      "Epoch 36/40\n",
      "9/9 [==============================] - 61s 7s/step - loss: 1.4694 - acc: 0.6571\n",
      "45/45 [==============================] - 379s 8s/step - loss: 1.8362 - acc: 0.5921 - val_loss: 1.4694 - val_acc: 0.6571\n",
      "Epoch 37/40\n",
      "9/9 [==============================] - 94s 10s/step - loss: 1.4462 - acc: 0.6500\n",
      "45/45 [==============================] - 501s 11s/step - loss: 1.6674 - acc: 0.5921 - val_loss: 1.4462 - val_acc: 0.6500\n",
      "Epoch 38/40\n",
      "9/9 [==============================] - 17s 2s/step - loss: 1.4935 - acc: 0.6500\n",
      "45/45 [==============================] - 342s 8s/step - loss: 1.6809 - acc: 0.5921 - val_loss: 1.4935 - val_acc: 0.6500\n",
      "Epoch 39/40\n",
      "9/9 [==============================] - 97s 11s/step - loss: 1.4251 - acc: 0.6571\n",
      "45/45 [==============================] - 480s 11s/step - loss: 1.6688 - acc: 0.5850 - val_loss: 1.4251 - val_acc: 0.6571\n",
      "Epoch 40/40\n",
      "9/9 [==============================] - 15s 2s/step - loss: 1.4377 - acc: 0.6571\n",
      "45/45 [==============================] - 404s 9s/step - loss: 1.7419 - acc: 0.5949 - val_loss: 1.4377 - val_acc: 0.6571\n"
     ]
    }
   ],
   "source": [
    "model, model_out = inter.train_efficient_net(\n",
    "    train_images,\n",
    "    test_images,\n",
    "    validation_images,\n",
    "    False,\n",
    "    0\n",
    ")"
   ]
  },
  {
   "cell_type": "code",
   "execution_count": 15,
   "metadata": {},
   "outputs": [
    {
     "name": "stdout",
     "output_type": "stream",
     "text": [
      "[2.2243227816843785, 2.1037302302835093, 2.292497507573525, 2.4492397408235935, 2.228860685237744, 2.0961387218226792, 2.0104391642400294, 2.1152105917969437, 2.1488556956434386, 2.0786358844119497, 2.1857601993165847, 2.0934505724366597, 1.9490009316641617, 1.9039754735849397, 2.0855490459503856, 2.0040375402899033, 2.0740093907958723, 1.882615445693559, 1.9558669688765793, 2.0834262776729404, 1.9254307740133139, 1.9267496316358659, 1.827950241545442, 1.9998225490364745, 2.0207287373691374, 2.0354527359981374, 1.9777818813540105, 1.7578666720106648, 1.6353133450191015, 1.8826393913952555, 1.8273330985130833, 1.8922604406859314, 1.9168478868500707, 1.5379656877463668, 1.7671079764791655, 1.810279193073089, 1.6938892178258544, 1.6967826257684075, 1.701182107070476, 1.775084969183963]\n",
      "[1.564185255103641, 1.5117042594485812, 1.5273416969511244, 1.3901407056384616, 1.3856462902492948, 1.630043261580997, 1.7069653802447848, 1.846101337009006, 1.7873561051156786, 1.6851729419496324, 1.631054957707723, 1.5861714217397902, 1.541028916835785, 1.5520096752378676, 1.6027849780188665, 1.5491109159257677, 1.564918941921658, 1.5854302181137934, 1.5773736900753446, 1.6159458458423615, 1.5987043910556369, 1.6170960134930081, 1.6837845643361409, 1.6003182729085286, 1.6595349841647677, 1.5725021097395155, 1.5494210322697957, 1.5211652782228258, 1.5137991027699575, 1.4623600873682234, 1.5344969299104478, 1.5547062655289967, 1.4902162220742967, 1.4631863799360063, 1.5364983876546223, 1.469404896100362, 1.4461547864807978, 1.493479675716824, 1.4250961707697973, 1.4377462267875671]\n",
      "[0.52124643, 0.5439094, 0.5, 0.49716714, 0.5439094, 0.5240793, 0.53966004, 0.5439094, 0.5240793, 0.5339943, 0.52974504, 0.5467422, 0.57223797, 0.5424929, 0.5339943, 0.5594901, 0.52124643, 0.5594901, 0.5594901, 0.54532576, 0.5566572, 0.55807364, 0.55382437, 0.5467422, 0.5410765, 0.5439094, 0.56657225, 0.6062323, 0.5934844, 0.57932013, 0.5750708, 0.58215296, 0.55807364, 0.60764873, 0.58498585, 0.592068, 0.592068, 0.592068, 0.58498585, 0.59490085]\n",
      "[0.49285713, 0.5, 0.5, 0.53571427, 0.51428574, 0.53571427, 0.51428574, 0.55, 0.5642857, 0.57857144, 0.6142857, 0.5928571, 0.62142855, 0.6357143, 0.62857145, 0.6357143, 0.62142855, 0.62142855, 0.62142855, 0.6142857, 0.6142857, 0.60714287, 0.6, 0.60714287, 0.6, 0.6357143, 0.6357143, 0.62857145, 0.6357143, 0.64285713, 0.6357143, 0.6357143, 0.64285713, 0.6571429, 0.65, 0.6571429, 0.65, 0.65, 0.6571429, 0.6571429]\n"
     ]
    }
   ],
   "source": [
    "print(model_out.history[\"loss\"])\n",
    "print(model_out.history[\"val_loss\"])\n",
    "print(model_out.history['acc'])\n",
    "print(model_out.history['val_acc'])"
   ]
  },
  {
   "cell_type": "code",
   "execution_count": 24,
   "metadata": {},
   "outputs": [],
   "source": [
    "pred[pred <= 0.5] = 0\n",
    "pred[pred > 0.5] = 1"
   ]
  },
  {
   "cell_type": "code",
   "execution_count": 27,
   "metadata": {},
   "outputs": [
    {
     "name": "stdout",
     "output_type": "stream",
     "text": [
      "Accuracy: \n",
      "\n",
      "0.5106382978723404\n"
     ]
    }
   ],
   "source": [
    "from sklearn.metrics import accuracy_score\n",
    "print('Accuracy: \\n')\n",
    "print(accuracy_score(\n",
    "    test_images.classes,\n",
    "    pred[:,1]\n",
    "))"
   ]
  },
  {
   "cell_type": "markdown",
   "metadata": {},
   "source": [
    "> **Seems that `transfer learning` works well if the initial and target problems are similar enough**"
   ]
  },
  {
   "cell_type": "markdown",
   "metadata": {},
   "source": [
    "> Train EfficientNetB1"
   ]
  },
  {
   "cell_type": "code",
   "execution_count": null,
   "metadata": {},
   "outputs": [],
   "source": [
    "model, model_out = inter.train_efficient_net(\n",
    "    train_images,\n",
    "    test_images,\n",
    "    validation_images,\n",
    "    1\n",
    ")"
   ]
  },
  {
   "cell_type": "markdown",
   "metadata": {},
   "source": [
    "> Train EfficientNetB2"
   ]
  },
  {
   "cell_type": "code",
   "execution_count": null,
   "metadata": {},
   "outputs": [],
   "source": [
    "model, model_out = inter.train_efficient_net(\n",
    "    train_images,\n",
    "    test_images,\n",
    "    validation_images,\n",
    "    2\n",
    ")"
   ]
  }
 ],
 "metadata": {
  "kernelspec": {
   "display_name": "conda_amazonei_tensorflow_p36",
   "language": "python",
   "name": "conda_amazonei_tensorflow_p36"
  },
  "language_info": {
   "codemirror_mode": {
    "name": "ipython",
    "version": 3
   },
   "file_extension": ".py",
   "mimetype": "text/x-python",
   "name": "python",
   "nbconvert_exporter": "python",
   "pygments_lexer": "ipython3",
   "version": "3.6.5"
  }
 },
 "nbformat": 4,
 "nbformat_minor": 4
}